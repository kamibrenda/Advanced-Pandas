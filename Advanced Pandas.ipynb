{
 "cells": [
  {
   "cell_type": "code",
   "execution_count": 1,
   "id": "35c63403-4337-4f7b-b5e0-418ea6cc16e5",
   "metadata": {},
   "outputs": [
    {
     "data": {
      "text/plain": [
       "'C:\\\\Users\\\\admin\\\\Desktop\\\\Personal_stuff\\\\PROJECTS\\\\Advanced pandas'"
      ]
     },
     "execution_count": 1,
     "metadata": {},
     "output_type": "execute_result"
    }
   ],
   "source": [
    "pwd"
   ]
  },
  {
   "cell_type": "code",
   "execution_count": 2,
   "id": "feef23aa-89eb-4f6b-b216-a2280cdf6ce7",
   "metadata": {
    "tags": []
   },
   "outputs": [],
   "source": [
    "#Loading libraries\n",
    "import pandas as pd\n",
    "import numpy as np"
   ]
  },
  {
   "cell_type": "code",
   "execution_count": 3,
   "id": "b6263ada-045f-4775-8d21-3f9762056a74",
   "metadata": {
    "tags": []
   },
   "outputs": [],
   "source": [
    "#Loading the dataframe\n",
    "df1 = pd.read_csv(\"C:\\\\Users\\\\admin\\\\Desktop\\\\Personal_stuff\\\\PROJECTS\\\\Advanced pandas\\mexico-city-real-estate-4.csv\", encoding=\"ISO-8859-1\")"
   ]
  },
  {
   "cell_type": "code",
   "execution_count": 4,
   "id": "3297a7a6-8e97-4bd2-aa9e-9dd62f7e4e29",
   "metadata": {
    "tags": []
   },
   "outputs": [
    {
     "name": "stdout",
     "output_type": "stream",
     "text": [
      "<class 'pandas.core.frame.DataFrame'>\n",
      "RangeIndex: 4628 entries, 0 to 4627\n",
      "Data columns (total 17 columns):\n",
      " #   Column                      Non-Null Count  Dtype  \n",
      "---  ------                      --------------  -----  \n",
      " 0   Unnamed: 0                  4628 non-null   int64  \n",
      " 1   operation                   4628 non-null   object \n",
      " 2   property_type               4628 non-null   object \n",
      " 3   place_with_parent_names     4628 non-null   object \n",
      " 4   lat-lon                     4135 non-null   object \n",
      " 5   price                       4540 non-null   float64\n",
      " 6   currency                    4540 non-null   object \n",
      " 7   price_aprox_local_currency  4540 non-null   float64\n",
      " 8   price_aprox_usd             4540 non-null   float64\n",
      " 9   surface_total_in_m2         1697 non-null   float64\n",
      " 10  surface_covered_in_m2       4465 non-null   float64\n",
      " 11  price_usd_per_m2            1148 non-null   float64\n",
      " 12  price_per_m2                4278 non-null   float64\n",
      " 13  floor                       294 non-null    float64\n",
      " 14  rooms                       103 non-null    float64\n",
      " 15  expenses                    5 non-null      float64\n",
      " 16  properati_url               4628 non-null   object \n",
      "dtypes: float64(10), int64(1), object(6)\n",
      "memory usage: 614.8+ KB\n"
     ]
    }
   ],
   "source": [
    "df1.head()\n",
    "df1.info()"
   ]
  },
  {
   "cell_type": "code",
   "execution_count": 18,
   "id": "edc3e160-e1d4-43c6-931d-5cd3672a73f3",
   "metadata": {
    "tags": []
   },
   "outputs": [],
   "source": [
    "#df1.style.format(dict(Date='{:%m/%d/%Y}')).hide_index().background_gradient(subset='Volume',cmap='Blues')"
   ]
  },
  {
   "cell_type": "code",
   "execution_count": 5,
   "id": "e1682162-a2c7-40d1-b596-c3b69f7aa68b",
   "metadata": {
    "tags": []
   },
   "outputs": [
    {
     "data": {
      "text/plain": [
       "0    850000.00\n",
       "1    332451.71\n",
       "2     52686.48\n",
       "3     48581.99\n",
       "4    210745.93\n",
       "Name: price_aprox_usd, dtype: float64"
      ]
     },
     "execution_count": 5,
     "metadata": {},
     "output_type": "execute_result"
    }
   ],
   "source": [
    "#Selecting a series in a dataframe\n",
    "price_aprox_usd = df1[\"price_aprox_usd\"]\n",
    "price_aprox_usd.head()"
   ]
  },
  {
   "cell_type": "markdown",
   "id": "f486c861-b187-43dd-b685-999f082900d3",
   "metadata": {
    "tags": []
   },
   "source": [
    "## Subset a DataFrame by Selecting One or More Columns"
   ]
  },
  {
   "cell_type": "code",
   "execution_count": 6,
   "id": "37aa2f46-eaff-4886-bc84-93b5df95be36",
   "metadata": {
    "tags": []
   },
   "outputs": [
    {
     "name": "stdout",
     "output_type": "stream",
     "text": [
      "<class 'pandas.core.frame.DataFrame'>\n",
      "RangeIndex: 4628 entries, 0 to 4627\n",
      "Data columns (total 17 columns):\n",
      " #   Column                      Non-Null Count  Dtype  \n",
      "---  ------                      --------------  -----  \n",
      " 0   Unnamed: 0                  4628 non-null   int64  \n",
      " 1   operation                   4628 non-null   object \n",
      " 2   property_type               4628 non-null   object \n",
      " 3   place_with_parent_names     4628 non-null   object \n",
      " 4   lat-lon                     4129 non-null   object \n",
      " 5   price                       4558 non-null   float64\n",
      " 6   currency                    4558 non-null   object \n",
      " 7   price_aprox_local_currency  4558 non-null   float64\n",
      " 8   price_aprox_usd             4558 non-null   float64\n",
      " 9   surface_total_in_m2         1745 non-null   float64\n",
      " 10  surface_covered_in_m2       4442 non-null   float64\n",
      " 11  price_usd_per_m2            1247 non-null   float64\n",
      " 12  price_per_m2                4271 non-null   float64\n",
      " 13  floor                       302 non-null    float64\n",
      " 14  rooms                       126 non-null    float64\n",
      " 15  expenses                    1 non-null      float64\n",
      " 16  properati_url               4628 non-null   object \n",
      "dtypes: float64(10), int64(1), object(6)\n",
      "memory usage: 614.8+ KB\n"
     ]
    }
   ],
   "source": [
    "df2 = pd.read_csv(\"C:\\\\Users\\\\admin\\\\Desktop\\\\Personal_stuff\\\\PROJECTS\\\\Advanced pandas\\mexico-city-real-estate-5.csv\", encoding = \"ISO=8859-5\")\n",
    "df2.head()\n",
    "df2.info()"
   ]
  },
  {
   "cell_type": "code",
   "execution_count": 7,
   "id": "0cd92167-40a9-4afc-83a8-cb8f8125a6f4",
   "metadata": {
    "tags": []
   },
   "outputs": [
    {
     "data": {
      "text/html": [
       "<div>\n",
       "<style scoped>\n",
       "    .dataframe tbody tr th:only-of-type {\n",
       "        vertical-align: middle;\n",
       "    }\n",
       "\n",
       "    .dataframe tbody tr th {\n",
       "        vertical-align: top;\n",
       "    }\n",
       "\n",
       "    .dataframe thead th {\n",
       "        text-align: right;\n",
       "    }\n",
       "</style>\n",
       "<table border=\"1\" class=\"dataframe\">\n",
       "  <thead>\n",
       "    <tr style=\"text-align: right;\">\n",
       "      <th></th>\n",
       "      <th>property_type</th>\n",
       "      <th>place_with_parent_names</th>\n",
       "      <th>price</th>\n",
       "    </tr>\n",
       "  </thead>\n",
       "  <tbody>\n",
       "    <tr>\n",
       "      <th>0</th>\n",
       "      <td>house</td>\n",
       "      <td>|Tlalpan|Distrito Federal|Mщxico|</td>\n",
       "      <td>4890000.0</td>\n",
       "    </tr>\n",
       "    <tr>\n",
       "      <th>1</th>\n",
       "      <td>apartment</td>\n",
       "      <td>|Benito Juсrez|Distrito Federal|Mщxico|</td>\n",
       "      <td>1570000.0</td>\n",
       "    </tr>\n",
       "    <tr>\n",
       "      <th>2</th>\n",
       "      <td>apartment</td>\n",
       "      <td>|Benito Juсrez|Distrito Federal|Mщxico|</td>\n",
       "      <td>2700000.0</td>\n",
       "    </tr>\n",
       "    <tr>\n",
       "      <th>3</th>\n",
       "      <td>apartment</td>\n",
       "      <td>|Tlalpan|Distrito Federal|Mщxico|</td>\n",
       "      <td>1370000.0</td>\n",
       "    </tr>\n",
       "    <tr>\n",
       "      <th>4</th>\n",
       "      <td>apartment</td>\n",
       "      <td>|Iztapalapa|Distrito Federal|Mщxico|</td>\n",
       "      <td>840400.0</td>\n",
       "    </tr>\n",
       "  </tbody>\n",
       "</table>\n",
       "</div>"
      ],
      "text/plain": [
       "  property_type                  place_with_parent_names      price\n",
       "0         house        |Tlalpan|Distrito Federal|Mщxico|  4890000.0\n",
       "1     apartment  |Benito Juсrez|Distrito Federal|Mщxico|  1570000.0\n",
       "2     apartment  |Benito Juсrez|Distrito Federal|Mщxico|  2700000.0\n",
       "3     apartment        |Tlalpan|Distrito Federal|Mщxico|  1370000.0\n",
       "4     apartment     |Iztapalapa|Distrito Federal|Mщxico|   840400.0"
      ]
     },
     "execution_count": 7,
     "metadata": {},
     "output_type": "execute_result"
    }
   ],
   "source": [
    "mexico_df = df2[[\"property_type\",\"place_with_parent_names\",\"price\"]]\n",
    "mexico_df.head()"
   ]
  },
  {
   "cell_type": "markdown",
   "id": "6dfab0ee-6edb-4b2f-ab20-8d0475f43bdd",
   "metadata": {},
   "source": [
    "## Subset the Columns of a DataFrame Based on Data Types"
   ]
  },
  {
   "cell_type": "code",
   "execution_count": 15,
   "id": "5a895181-d1d9-4b5c-88e0-22b29ed5ad51",
   "metadata": {
    "tags": []
   },
   "outputs": [
    {
     "name": "stdout",
     "output_type": "stream",
     "text": [
      "<class 'pandas.core.frame.DataFrame'>\n",
      "RangeIndex: 4628 entries, 0 to 4627\n",
      "Data columns (total 17 columns):\n",
      " #   Column                      Non-Null Count  Dtype  \n",
      "---  ------                      --------------  -----  \n",
      " 0   Unnamed: 0                  4628 non-null   int64  \n",
      " 1   operation                   4628 non-null   object \n",
      " 2   property_type               4628 non-null   object \n",
      " 3   place_with_parent_names     4628 non-null   object \n",
      " 4   lat-lon                     4145 non-null   object \n",
      " 5   price                       4557 non-null   float64\n",
      " 6   currency                    4557 non-null   object \n",
      " 7   price_aprox_local_currency  4557 non-null   float64\n",
      " 8   price_aprox_usd             4557 non-null   float64\n",
      " 9   surface_total_in_m2         1742 non-null   float64\n",
      " 10  surface_covered_in_m2       4427 non-null   float64\n",
      " 11  price_usd_per_m2            1207 non-null   float64\n",
      " 12  price_per_m2                4260 non-null   float64\n",
      " 13  floor                       322 non-null    float64\n",
      " 14  rooms                       139 non-null    float64\n",
      " 15  expenses                    2 non-null      float64\n",
      " 16  properati_url               4628 non-null   object \n",
      "dtypes: float64(10), int64(1), object(6)\n",
      "memory usage: 614.8+ KB\n"
     ]
    }
   ],
   "source": [
    "df3 = pd.read_csv(\"C:\\\\Users\\\\admin\\\\Desktop\\\\Personal_stuff\\\\PROJECTS\\\\Advanced pandas\\mexico-city-real-estate-3.csv\", encoding = \"ISO=8859-5\")\n",
    "df3.head()\n",
    "df3.info()"
   ]
  },
  {
   "cell_type": "code",
   "execution_count": 9,
   "id": "bc97fb5e-b712-4c2c-920f-57ea59189e2a",
   "metadata": {
    "tags": []
   },
   "outputs": [
    {
     "data": {
      "text/html": [
       "<div>\n",
       "<style scoped>\n",
       "    .dataframe tbody tr th:only-of-type {\n",
       "        vertical-align: middle;\n",
       "    }\n",
       "\n",
       "    .dataframe tbody tr th {\n",
       "        vertical-align: top;\n",
       "    }\n",
       "\n",
       "    .dataframe thead th {\n",
       "        text-align: right;\n",
       "    }\n",
       "</style>\n",
       "<table border=\"1\" class=\"dataframe\">\n",
       "  <thead>\n",
       "    <tr style=\"text-align: right;\">\n",
       "      <th></th>\n",
       "      <th>Unnamed: 0</th>\n",
       "      <th>price</th>\n",
       "      <th>price_aprox_local_currency</th>\n",
       "      <th>price_aprox_usd</th>\n",
       "      <th>surface_total_in_m2</th>\n",
       "      <th>surface_covered_in_m2</th>\n",
       "      <th>price_usd_per_m2</th>\n",
       "      <th>price_per_m2</th>\n",
       "      <th>floor</th>\n",
       "      <th>rooms</th>\n",
       "      <th>expenses</th>\n",
       "    </tr>\n",
       "  </thead>\n",
       "  <tbody>\n",
       "    <tr>\n",
       "      <th>0</th>\n",
       "      <td>1</td>\n",
       "      <td>2715592.0</td>\n",
       "      <td>2691025.94</td>\n",
       "      <td>143074.99</td>\n",
       "      <td>0.0</td>\n",
       "      <td>NaN</td>\n",
       "      <td>NaN</td>\n",
       "      <td>NaN</td>\n",
       "      <td>NaN</td>\n",
       "      <td>NaN</td>\n",
       "      <td>NaN</td>\n",
       "    </tr>\n",
       "    <tr>\n",
       "      <th>1</th>\n",
       "      <td>2</td>\n",
       "      <td>5050000.0</td>\n",
       "      <td>5005502.90</td>\n",
       "      <td>266129.83</td>\n",
       "      <td>400.0</td>\n",
       "      <td>338.0</td>\n",
       "      <td>665.324575</td>\n",
       "      <td>14940.828400</td>\n",
       "      <td>2.0</td>\n",
       "      <td>NaN</td>\n",
       "      <td>NaN</td>\n",
       "    </tr>\n",
       "    <tr>\n",
       "      <th>2</th>\n",
       "      <td>3</td>\n",
       "      <td>9500000.0</td>\n",
       "      <td>9416292.89</td>\n",
       "      <td>500640.29</td>\n",
       "      <td>340.0</td>\n",
       "      <td>1050.0</td>\n",
       "      <td>1472.471441</td>\n",
       "      <td>9047.619048</td>\n",
       "      <td>NaN</td>\n",
       "      <td>NaN</td>\n",
       "      <td>NaN</td>\n",
       "    </tr>\n",
       "    <tr>\n",
       "      <th>3</th>\n",
       "      <td>4</td>\n",
       "      <td>810000.0</td>\n",
       "      <td>802672.48</td>\n",
       "      <td>42676.05</td>\n",
       "      <td>92.0</td>\n",
       "      <td>78.0</td>\n",
       "      <td>463.870109</td>\n",
       "      <td>10384.615380</td>\n",
       "      <td>NaN</td>\n",
       "      <td>NaN</td>\n",
       "      <td>NaN</td>\n",
       "    </tr>\n",
       "    <tr>\n",
       "      <th>4</th>\n",
       "      <td>5</td>\n",
       "      <td>500000.0</td>\n",
       "      <td>495476.82</td>\n",
       "      <td>26343.24</td>\n",
       "      <td>48.0</td>\n",
       "      <td>NaN</td>\n",
       "      <td>548.817500</td>\n",
       "      <td>NaN</td>\n",
       "      <td>NaN</td>\n",
       "      <td>2.0</td>\n",
       "      <td>NaN</td>\n",
       "    </tr>\n",
       "  </tbody>\n",
       "</table>\n",
       "</div>"
      ],
      "text/plain": [
       "   Unnamed: 0      price  price_aprox_local_currency  price_aprox_usd  \\\n",
       "0           1  2715592.0                  2691025.94        143074.99   \n",
       "1           2  5050000.0                  5005502.90        266129.83   \n",
       "2           3  9500000.0                  9416292.89        500640.29   \n",
       "3           4   810000.0                   802672.48         42676.05   \n",
       "4           5   500000.0                   495476.82         26343.24   \n",
       "\n",
       "   surface_total_in_m2  surface_covered_in_m2  price_usd_per_m2  price_per_m2  \\\n",
       "0                  0.0                    NaN               NaN           NaN   \n",
       "1                400.0                  338.0        665.324575  14940.828400   \n",
       "2                340.0                 1050.0       1472.471441   9047.619048   \n",
       "3                 92.0                   78.0        463.870109  10384.615380   \n",
       "4                 48.0                    NaN        548.817500           NaN   \n",
       "\n",
       "   floor  rooms  expenses  \n",
       "0    NaN    NaN       NaN  \n",
       "1    2.0    NaN       NaN  \n",
       "2    NaN    NaN       NaN  \n",
       "3    NaN    NaN       NaN  \n",
       "4    NaN    2.0       NaN  "
      ]
     },
     "execution_count": 9,
     "metadata": {},
     "output_type": "execute_result"
    }
   ],
   "source": [
    "#Creating a dataframe containing numbers only \n",
    "numbers_df = df3.select_dtypes(include = \"number\")\n",
    "numbers_df.head()"
   ]
  },
  {
   "cell_type": "code",
   "execution_count": 10,
   "id": "c86fb6bb-8374-4f95-8b03-6d3957883fc4",
   "metadata": {
    "tags": []
   },
   "outputs": [
    {
     "data": {
      "text/html": [
       "<div>\n",
       "<style scoped>\n",
       "    .dataframe tbody tr th:only-of-type {\n",
       "        vertical-align: middle;\n",
       "    }\n",
       "\n",
       "    .dataframe tbody tr th {\n",
       "        vertical-align: top;\n",
       "    }\n",
       "\n",
       "    .dataframe thead th {\n",
       "        text-align: right;\n",
       "    }\n",
       "</style>\n",
       "<table border=\"1\" class=\"dataframe\">\n",
       "  <thead>\n",
       "    <tr style=\"text-align: right;\">\n",
       "      <th></th>\n",
       "      <th>operation</th>\n",
       "      <th>property_type</th>\n",
       "      <th>place_with_parent_names</th>\n",
       "      <th>lat-lon</th>\n",
       "      <th>currency</th>\n",
       "      <th>properati_url</th>\n",
       "    </tr>\n",
       "  </thead>\n",
       "  <tbody>\n",
       "    <tr>\n",
       "      <th>0</th>\n",
       "      <td>sell</td>\n",
       "      <td>apartment</td>\n",
       "      <td>|Gustavo A. Madero|Distrito Federal|Mщxico|</td>\n",
       "      <td>19.5010872,-99.1230477</td>\n",
       "      <td>MXN</td>\n",
       "      <td>http://lindavista-norte.properati.com.mx/qygs_...</td>\n",
       "    </tr>\n",
       "    <tr>\n",
       "      <th>1</th>\n",
       "      <td>sell</td>\n",
       "      <td>house</td>\n",
       "      <td>|Benito Juсrez|Quintana Roo|Mщxico|</td>\n",
       "      <td>21.161908,-86.8515279</td>\n",
       "      <td>MXN</td>\n",
       "      <td>http://cancun.properati.com.mx/d0mg_venta_casa...</td>\n",
       "    </tr>\n",
       "    <tr>\n",
       "      <th>2</th>\n",
       "      <td>sell</td>\n",
       "      <td>store</td>\n",
       "      <td>|Gustavo A. Madero|Distrito Federal|Mщxico|</td>\n",
       "      <td>NaN</td>\n",
       "      <td>MXN</td>\n",
       "      <td>http://gustavo-a-madero.properati.com.mx/i3tn_...</td>\n",
       "    </tr>\n",
       "    <tr>\n",
       "      <th>3</th>\n",
       "      <td>sell</td>\n",
       "      <td>house</td>\n",
       "      <td>|Benito Juсrez|Quintana Roo|Mщxico|</td>\n",
       "      <td>21.141616,-86.86109</td>\n",
       "      <td>MXN</td>\n",
       "      <td>http://cancun.properati.com.mx/qr5j_venta_casa...</td>\n",
       "    </tr>\n",
       "    <tr>\n",
       "      <th>4</th>\n",
       "      <td>sell</td>\n",
       "      <td>apartment</td>\n",
       "      <td>|Iztapalapa|Distrito Federal|Mщxico|</td>\n",
       "      <td>19.3603443968,-99.089448452</td>\n",
       "      <td>MXN</td>\n",
       "      <td>http://san-pablo.properati.com.mx/9e3n_venta_d...</td>\n",
       "    </tr>\n",
       "  </tbody>\n",
       "</table>\n",
       "</div>"
      ],
      "text/plain": [
       "  operation property_type                      place_with_parent_names  \\\n",
       "0      sell     apartment  |Gustavo A. Madero|Distrito Federal|Mщxico|   \n",
       "1      sell         house          |Benito Juсrez|Quintana Roo|Mщxico|   \n",
       "2      sell         store  |Gustavo A. Madero|Distrito Federal|Mщxico|   \n",
       "3      sell         house          |Benito Juсrez|Quintana Roo|Mщxico|   \n",
       "4      sell     apartment         |Iztapalapa|Distrito Federal|Mщxico|   \n",
       "\n",
       "                       lat-lon currency  \\\n",
       "0       19.5010872,-99.1230477      MXN   \n",
       "1        21.161908,-86.8515279      MXN   \n",
       "2                          NaN      MXN   \n",
       "3          21.141616,-86.86109      MXN   \n",
       "4  19.3603443968,-99.089448452      MXN   \n",
       "\n",
       "                                       properati_url  \n",
       "0  http://lindavista-norte.properati.com.mx/qygs_...  \n",
       "1  http://cancun.properati.com.mx/d0mg_venta_casa...  \n",
       "2  http://gustavo-a-madero.properati.com.mx/i3tn_...  \n",
       "3  http://cancun.properati.com.mx/qr5j_venta_casa...  \n",
       "4  http://san-pablo.properati.com.mx/9e3n_venta_d...  "
      ]
     },
     "execution_count": 10,
     "metadata": {},
     "output_type": "execute_result"
    }
   ],
   "source": [
    "#Creating a dataframe that excludes numbers\n",
    "non_num_df = df3.select_dtypes(exclude = \"number\")\n",
    "non_num_df.head()"
   ]
  },
  {
   "cell_type": "markdown",
   "id": "1a973b54-eaae-46a9-9b19-364b99fe893b",
   "metadata": {},
   "source": [
    "## Subset a DataFrame's Columns Based on the Column Names"
   ]
  },
  {
   "cell_type": "code",
   "execution_count": 11,
   "id": "357ae663-8721-445e-a4d5-16424ba3af64",
   "metadata": {},
   "outputs": [],
   "source": [
    "drop_cols = [\n",
    "    \"lat-lon\",\n",
    "    \"price\",\n",
    "    \"currency\",\n",
    "    \"price_aprox_local_currency\",\n",
    "    \"price_aprox_usd\",\n",
    "    \"surface_total_in_m2\",\n",
    "    \"surface_covered_in_m2\",\n",
    "    \"price_usd_per_m2\",\n",
    "    \"price_per_m2\",\n",
    "    \"floor\",\n",
    "    \"rooms\",\n",
    "    \"expenses\",\n",
    "    \"properati_url\",\n",
    "]\n",
    "\n",
    "keep_cols = [\"operation\", \"property_type\", \"place_with_parent_names\"]\n"
   ]
  },
  {
   "cell_type": "code",
   "execution_count": 12,
   "id": "06ba2fe9-02eb-4bea-9fe1-d5f0b644cf48",
   "metadata": {
    "tags": []
   },
   "outputs": [],
   "source": [
    "mexico_city3_subsetted = df3[keep_cols]"
   ]
  },
  {
   "cell_type": "code",
   "execution_count": 14,
   "id": "118447fe-2a98-4231-bab5-0146f180a772",
   "metadata": {
    "tags": []
   },
   "outputs": [
    {
     "data": {
      "text/html": [
       "<div>\n",
       "<style scoped>\n",
       "    .dataframe tbody tr th:only-of-type {\n",
       "        vertical-align: middle;\n",
       "    }\n",
       "\n",
       "    .dataframe tbody tr th {\n",
       "        vertical-align: top;\n",
       "    }\n",
       "\n",
       "    .dataframe thead th {\n",
       "        text-align: right;\n",
       "    }\n",
       "</style>\n",
       "<table border=\"1\" class=\"dataframe\">\n",
       "  <thead>\n",
       "    <tr style=\"text-align: right;\">\n",
       "      <th></th>\n",
       "      <th>operation</th>\n",
       "      <th>property_type</th>\n",
       "      <th>place_with_parent_names</th>\n",
       "    </tr>\n",
       "  </thead>\n",
       "  <tbody>\n",
       "    <tr>\n",
       "      <th>0</th>\n",
       "      <td>sell</td>\n",
       "      <td>apartment</td>\n",
       "      <td>|Gustavo A. Madero|Distrito Federal|Mщxico|</td>\n",
       "    </tr>\n",
       "    <tr>\n",
       "      <th>1</th>\n",
       "      <td>sell</td>\n",
       "      <td>house</td>\n",
       "      <td>|Benito Juсrez|Quintana Roo|Mщxico|</td>\n",
       "    </tr>\n",
       "    <tr>\n",
       "      <th>2</th>\n",
       "      <td>sell</td>\n",
       "      <td>store</td>\n",
       "      <td>|Gustavo A. Madero|Distrito Federal|Mщxico|</td>\n",
       "    </tr>\n",
       "    <tr>\n",
       "      <th>3</th>\n",
       "      <td>sell</td>\n",
       "      <td>house</td>\n",
       "      <td>|Benito Juсrez|Quintana Roo|Mщxico|</td>\n",
       "    </tr>\n",
       "    <tr>\n",
       "      <th>4</th>\n",
       "      <td>sell</td>\n",
       "      <td>apartment</td>\n",
       "      <td>|Iztapalapa|Distrito Federal|Mщxico|</td>\n",
       "    </tr>\n",
       "  </tbody>\n",
       "</table>\n",
       "</div>"
      ],
      "text/plain": [
       "  operation property_type                      place_with_parent_names\n",
       "0      sell     apartment  |Gustavo A. Madero|Distrito Federal|Mщxico|\n",
       "1      sell         house          |Benito Juсrez|Quintana Roo|Mщxico|\n",
       "2      sell         store  |Gustavo A. Madero|Distrito Federal|Mщxico|\n",
       "3      sell         house          |Benito Juсrez|Quintana Roo|Mщxico|\n",
       "4      sell     apartment         |Iztapalapa|Distrito Federal|Mщxico|"
      ]
     },
     "execution_count": 14,
     "metadata": {},
     "output_type": "execute_result"
    }
   ],
   "source": [
    "mexico_city3_subsetted.head()"
   ]
  },
  {
   "cell_type": "markdown",
   "id": "daf10de0-726c-4c2c-aa48-1b9ee68a5394",
   "metadata": {},
   "source": [
    "## Pivot Table"
   ]
  },
  {
   "cell_type": "code",
   "execution_count": 19,
   "id": "5b079b5a-d368-44b7-aa51-91be0d605027",
   "metadata": {
    "tags": []
   },
   "outputs": [
    {
     "name": "stdout",
     "output_type": "stream",
     "text": [
      "pivot_table_result\n"
     ]
    }
   ],
   "source": [
    "#Creating a pivot table to calculate the mean price for each property type\n",
    "pivot_table_result = pd.pivot_table(df3, values='price', index='property_type', aggfunc='mean')\n",
    "print('pivot_table_result')"
   ]
  },
  {
   "cell_type": "code",
   "execution_count": null,
   "id": "83e1f4f8-0e86-408d-923b-d12cd988b4a9",
   "metadata": {},
   "outputs": [],
   "source": []
  }
 ],
 "metadata": {
  "kernelspec": {
   "display_name": "Python 3 (ipykernel)",
   "language": "python",
   "name": "python3"
  },
  "language_info": {
   "codemirror_mode": {
    "name": "ipython",
    "version": 3
   },
   "file_extension": ".py",
   "mimetype": "text/x-python",
   "name": "python",
   "nbconvert_exporter": "python",
   "pygments_lexer": "ipython3",
   "version": "3.11.3"
  }
 },
 "nbformat": 4,
 "nbformat_minor": 5
}
